{
  "nbformat": 4,
  "nbformat_minor": 0,
  "metadata": {
    "colab": {
      "provenance": [],
      "authorship_tag": "ABX9TyN2ELQ334vVhclsAjrjXK/p",
      "include_colab_link": true
    },
    "kernelspec": {
      "name": "python3",
      "display_name": "Python 3"
    },
    "language_info": {
      "name": "python"
    }
  },
  "cells": [
    {
      "cell_type": "markdown",
      "metadata": {
        "id": "view-in-github",
        "colab_type": "text"
      },
      "source": [
        "<a href=\"https://colab.research.google.com/github/LoniQin/deep_learning_notebooks/blob/master/English_Spanish_Translation_Transformer.ipynb\" target=\"_parent\"><img src=\"https://colab.research.google.com/assets/colab-badge.svg\" alt=\"Open In Colab\"/></a>"
      ]
    },
    {
      "cell_type": "markdown",
      "source": [
        "# English-Spanish Translation with Transformer\n",
        "\n",
        "# Configuration"
      ],
      "metadata": {
        "id": "l3t9AjRWgfRc"
      }
    },
    {
      "cell_type": "code",
      "source": [
        " class Config:\n",
        "    vocab_size = 16000 # Vocabulary Size\n",
        "    sequence_length = 20\n",
        "    batch_size = 512\n",
        "    validation_split = 0.15\n",
        "    embed_dim = 256\n",
        "    latent_dim = 256\n",
        "    num_heads = 4\n",
        "    epochs = 30 # Number of Epochs to train\n",
        "    is_training = False\n",
        "config = Config()"
      ],
      "metadata": {
        "id": "7SKdgW9lghZ8"
      },
      "execution_count": 1,
      "outputs": []
    },
    {
      "cell_type": "markdown",
      "source": [
        "## Set up the environtment"
      ],
      "metadata": {
        "id": "Tzt0PPpvglUy"
      }
    },
    {
      "cell_type": "code",
      "source": [
        "!pip install opendatasets"
      ],
      "metadata": {
        "colab": {
          "base_uri": "https://localhost:8080/"
        },
        "id": "9Yxo3w5Sgy3l",
        "outputId": "5799c207-360d-43b6-8cf2-ba2470e77e5b"
      },
      "execution_count": 4,
      "outputs": [
        {
          "output_type": "stream",
          "name": "stdout",
          "text": [
            "Looking in indexes: https://pypi.org/simple, https://us-python.pkg.dev/colab-wheels/public/simple/\n",
            "Collecting opendatasets\n",
            "  Downloading opendatasets-0.1.22-py3-none-any.whl (15 kB)\n",
            "Requirement already satisfied: tqdm in /usr/local/lib/python3.10/dist-packages (from opendatasets) (4.65.0)\n",
            "Requirement already satisfied: kaggle in /usr/local/lib/python3.10/dist-packages (from opendatasets) (1.5.13)\n",
            "Requirement already satisfied: click in /usr/local/lib/python3.10/dist-packages (from opendatasets) (8.1.3)\n",
            "Requirement already satisfied: six>=1.10 in /usr/local/lib/python3.10/dist-packages (from kaggle->opendatasets) (1.16.0)\n",
            "Requirement already satisfied: certifi in /usr/local/lib/python3.10/dist-packages (from kaggle->opendatasets) (2022.12.7)\n",
            "Requirement already satisfied: python-dateutil in /usr/local/lib/python3.10/dist-packages (from kaggle->opendatasets) (2.8.2)\n",
            "Requirement already satisfied: requests in /usr/local/lib/python3.10/dist-packages (from kaggle->opendatasets) (2.27.1)\n",
            "Requirement already satisfied: python-slugify in /usr/local/lib/python3.10/dist-packages (from kaggle->opendatasets) (8.0.1)\n",
            "Requirement already satisfied: urllib3 in /usr/local/lib/python3.10/dist-packages (from kaggle->opendatasets) (1.26.15)\n",
            "Requirement already satisfied: text-unidecode>=1.3 in /usr/local/lib/python3.10/dist-packages (from python-slugify->kaggle->opendatasets) (1.3)\n",
            "Requirement already satisfied: charset-normalizer~=2.0.0 in /usr/local/lib/python3.10/dist-packages (from requests->kaggle->opendatasets) (2.0.12)\n",
            "Requirement already satisfied: idna<4,>=2.5 in /usr/local/lib/python3.10/dist-packages (from requests->kaggle->opendatasets) (3.4)\n",
            "Installing collected packages: opendatasets\n",
            "Successfully installed opendatasets-0.1.22\n"
          ]
        }
      ]
    },
    {
      "cell_type": "code",
      "source": [
        "import pandas as pd\n",
        "import tensorflow as tf\n",
        "from tensorflow.keras.layers import TextVectorization\n",
        "import pathlib\n",
        "import random\n",
        "import string\n",
        "import re\n",
        "import numpy as np\n",
        "from tensorflow import keras\n",
        "from tensorflow.keras import layers\n",
        "import sklearn\n",
        "from sklearn.model_selection import train_test_split\n",
        "import opendatasets as od\n",
        "print(f\"Tensorflow Version:{tf.__version__}\")"
      ],
      "metadata": {
        "colab": {
          "base_uri": "https://localhost:8080/"
        },
        "id": "_OH6sVt9gnI_",
        "outputId": "4935985b-c7a7-417d-d63a-0357852f683b"
      },
      "execution_count": 5,
      "outputs": [
        {
          "output_type": "stream",
          "name": "stdout",
          "text": [
            "Tensorflow Version:2.12.0\n"
          ]
        }
      ]
    },
    {
      "cell_type": "markdown",
      "source": [
        "## Utilities"
      ],
      "metadata": {
        "id": "Z7XUKB2lhUeu"
      }
    },
    {
      "cell_type": "code",
      "source": [
        "def load_relevant_data_subset_with_imputation(pq_path):\n",
        "    data_columns = ['x', 'y', 'z']\n",
        "    data = pd.read_parquet(pq_path, columns=data_columns)\n",
        "    data.replace(np.nan, 0, inplace=True)\n",
        "    n_frames = int(len(data) / CFG.rows_per_frame)\n",
        "    data = data.values.reshape(n_frames, CFG.rows_per_frame, len(data_columns))\n",
        "    return data.astype(np.float32)\n",
        "\n",
        "def load_relevant_data_subset(pq_path):\n",
        "    data_columns = ['x', 'y', 'z']\n",
        "    data = pd.read_parquet(pq_path, columns=data_columns)\n",
        "    n_frames = int(len(data) / CFG.rows_per_frame)\n",
        "    data = data.values.reshape(n_frames, CFG.rows_per_frame, len(data_columns))\n",
        "    return data.astype(np.float32)\n",
        "\n",
        "def read_dict(file_path):\n",
        "    path = os.path.expanduser(file_path)\n",
        "    with open(path, \"r\") as f:\n",
        "        dic = json.load(f)\n",
        "    return dic"
      ],
      "metadata": {
        "id": "IBsIRkDqhVnN"
      },
      "execution_count": 8,
      "outputs": []
    },
    {
      "cell_type": "markdown",
      "source": [
        "## Load data"
      ],
      "metadata": {
        "id": "yhO2eRQEhWv1"
      }
    },
    {
      "cell_type": "code",
      "source": [
        "od.download(\"https://www.kaggle.com/datasets/lonnieqin/englishspanish-translation-dataset\")"
      ],
      "metadata": {
        "colab": {
          "base_uri": "https://localhost:8080/"
        },
        "id": "TYIM9a9-g6fk",
        "outputId": "cc28658e-ce92-40c0-9212-e5da508e5332"
      },
      "execution_count": 6,
      "outputs": [
        {
          "output_type": "stream",
          "name": "stdout",
          "text": [
            "Please provide your Kaggle credentials to download this dataset. Learn more: http://bit.ly/kaggle-creds\n",
            "Your Kaggle username: lonnieqin\n",
            "Your Kaggle Key: ··········\n",
            "Downloading englishspanish-translation-dataset.zip to ./englishspanish-translation-dataset\n"
          ]
        },
        {
          "output_type": "stream",
          "name": "stderr",
          "text": [
            "100%|██████████| 2.72M/2.72M [00:00<00:00, 154MB/s]"
          ]
        },
        {
          "output_type": "stream",
          "name": "stdout",
          "text": [
            "\n"
          ]
        },
        {
          "output_type": "stream",
          "name": "stderr",
          "text": [
            "\n"
          ]
        }
      ]
    },
    {
      "cell_type": "code",
      "source": [
        "od.download(\"https://www.kaggle.com/datasets/lonnieqin/english-spanish-translation-transformer-model\")"
      ],
      "metadata": {
        "colab": {
          "base_uri": "https://localhost:8080/"
        },
        "id": "T95FzjgqhI__",
        "outputId": "a44cb3d7-e647-47b9-ba96-44b1102f0639"
      },
      "execution_count": 7,
      "outputs": [
        {
          "output_type": "stream",
          "name": "stdout",
          "text": [
            "Please provide your Kaggle credentials to download this dataset. Learn more: http://bit.ly/kaggle-creds\n",
            "Your Kaggle username: lonnieqin\n",
            "Your Kaggle Key: ··········\n",
            "Downloading english-spanish-translation-transformer-model.zip to ./english-spanish-translation-transformer-model\n"
          ]
        },
        {
          "output_type": "stream",
          "name": "stderr",
          "text": [
            "100%|██████████| 161M/161M [00:02<00:00, 65.6MB/s]\n"
          ]
        },
        {
          "output_type": "stream",
          "name": "stdout",
          "text": [
            "\n"
          ]
        }
      ]
    },
    {
      "cell_type": "code",
      "source": [
        "data = pd.read_csv(f\"/content/englishspanish-translation-dataset/data.csv\")\n",
        "data[\"spanish\"] = data[\"spanish\"].apply(lambda item: \"[start] \" + item + \" [end]\")\n",
        "data.head()"
      ],
      "metadata": {
        "colab": {
          "base_uri": "https://localhost:8080/",
          "height": 221
        },
        "id": "3VA-_UcIhbpz",
        "outputId": "7271945c-e8a1-43cc-c993-9cab8d6f678c"
      },
      "execution_count": 10,
      "outputs": [
        {
          "output_type": "execute_result",
          "data": {
            "text/plain": [
              "  english                spanish\n",
              "0     Go.      [start] Ve. [end]\n",
              "1     Go.    [start] Vete. [end]\n",
              "2     Go.    [start] Vaya. [end]\n",
              "3     Go.  [start] Váyase. [end]\n",
              "4     Hi.    [start] Hola. [end]"
            ],
            "text/html": [
              "\n",
              "  <div id=\"df-54c14d04-5636-41b6-9a60-702417754f72\">\n",
              "    <div class=\"colab-df-container\">\n",
              "      <div>\n",
              "<style scoped>\n",
              "    .dataframe tbody tr th:only-of-type {\n",
              "        vertical-align: middle;\n",
              "    }\n",
              "\n",
              "    .dataframe tbody tr th {\n",
              "        vertical-align: top;\n",
              "    }\n",
              "\n",
              "    .dataframe thead th {\n",
              "        text-align: right;\n",
              "    }\n",
              "</style>\n",
              "<table border=\"1\" class=\"dataframe\">\n",
              "  <thead>\n",
              "    <tr style=\"text-align: right;\">\n",
              "      <th></th>\n",
              "      <th>english</th>\n",
              "      <th>spanish</th>\n",
              "    </tr>\n",
              "  </thead>\n",
              "  <tbody>\n",
              "    <tr>\n",
              "      <th>0</th>\n",
              "      <td>Go.</td>\n",
              "      <td>[start] Ve. [end]</td>\n",
              "    </tr>\n",
              "    <tr>\n",
              "      <th>1</th>\n",
              "      <td>Go.</td>\n",
              "      <td>[start] Vete. [end]</td>\n",
              "    </tr>\n",
              "    <tr>\n",
              "      <th>2</th>\n",
              "      <td>Go.</td>\n",
              "      <td>[start] Vaya. [end]</td>\n",
              "    </tr>\n",
              "    <tr>\n",
              "      <th>3</th>\n",
              "      <td>Go.</td>\n",
              "      <td>[start] Váyase. [end]</td>\n",
              "    </tr>\n",
              "    <tr>\n",
              "      <th>4</th>\n",
              "      <td>Hi.</td>\n",
              "      <td>[start] Hola. [end]</td>\n",
              "    </tr>\n",
              "  </tbody>\n",
              "</table>\n",
              "</div>\n",
              "      <button class=\"colab-df-convert\" onclick=\"convertToInteractive('df-54c14d04-5636-41b6-9a60-702417754f72')\"\n",
              "              title=\"Convert this dataframe to an interactive table.\"\n",
              "              style=\"display:none;\">\n",
              "        \n",
              "  <svg xmlns=\"http://www.w3.org/2000/svg\" height=\"24px\"viewBox=\"0 0 24 24\"\n",
              "       width=\"24px\">\n",
              "    <path d=\"M0 0h24v24H0V0z\" fill=\"none\"/>\n",
              "    <path d=\"M18.56 5.44l.94 2.06.94-2.06 2.06-.94-2.06-.94-.94-2.06-.94 2.06-2.06.94zm-11 1L8.5 8.5l.94-2.06 2.06-.94-2.06-.94L8.5 2.5l-.94 2.06-2.06.94zm10 10l.94 2.06.94-2.06 2.06-.94-2.06-.94-.94-2.06-.94 2.06-2.06.94z\"/><path d=\"M17.41 7.96l-1.37-1.37c-.4-.4-.92-.59-1.43-.59-.52 0-1.04.2-1.43.59L10.3 9.45l-7.72 7.72c-.78.78-.78 2.05 0 2.83L4 21.41c.39.39.9.59 1.41.59.51 0 1.02-.2 1.41-.59l7.78-7.78 2.81-2.81c.8-.78.8-2.07 0-2.86zM5.41 20L4 18.59l7.72-7.72 1.47 1.35L5.41 20z\"/>\n",
              "  </svg>\n",
              "      </button>\n",
              "      \n",
              "  <style>\n",
              "    .colab-df-container {\n",
              "      display:flex;\n",
              "      flex-wrap:wrap;\n",
              "      gap: 12px;\n",
              "    }\n",
              "\n",
              "    .colab-df-convert {\n",
              "      background-color: #E8F0FE;\n",
              "      border: none;\n",
              "      border-radius: 50%;\n",
              "      cursor: pointer;\n",
              "      display: none;\n",
              "      fill: #1967D2;\n",
              "      height: 32px;\n",
              "      padding: 0 0 0 0;\n",
              "      width: 32px;\n",
              "    }\n",
              "\n",
              "    .colab-df-convert:hover {\n",
              "      background-color: #E2EBFA;\n",
              "      box-shadow: 0px 1px 2px rgba(60, 64, 67, 0.3), 0px 1px 3px 1px rgba(60, 64, 67, 0.15);\n",
              "      fill: #174EA6;\n",
              "    }\n",
              "\n",
              "    [theme=dark] .colab-df-convert {\n",
              "      background-color: #3B4455;\n",
              "      fill: #D2E3FC;\n",
              "    }\n",
              "\n",
              "    [theme=dark] .colab-df-convert:hover {\n",
              "      background-color: #434B5C;\n",
              "      box-shadow: 0px 1px 3px 1px rgba(0, 0, 0, 0.15);\n",
              "      filter: drop-shadow(0px 1px 2px rgba(0, 0, 0, 0.3));\n",
              "      fill: #FFFFFF;\n",
              "    }\n",
              "  </style>\n",
              "\n",
              "      <script>\n",
              "        const buttonEl =\n",
              "          document.querySelector('#df-54c14d04-5636-41b6-9a60-702417754f72 button.colab-df-convert');\n",
              "        buttonEl.style.display =\n",
              "          google.colab.kernel.accessAllowed ? 'block' : 'none';\n",
              "\n",
              "        async function convertToInteractive(key) {\n",
              "          const element = document.querySelector('#df-54c14d04-5636-41b6-9a60-702417754f72');\n",
              "          const dataTable =\n",
              "            await google.colab.kernel.invokeFunction('convertToInteractive',\n",
              "                                                     [key], {});\n",
              "          if (!dataTable) return;\n",
              "\n",
              "          const docLinkHtml = 'Like what you see? Visit the ' +\n",
              "            '<a target=\"_blank\" href=https://colab.research.google.com/notebooks/data_table.ipynb>data table notebook</a>'\n",
              "            + ' to learn more about interactive tables.';\n",
              "          element.innerHTML = '';\n",
              "          dataTable['output_type'] = 'display_data';\n",
              "          await google.colab.output.renderOutput(dataTable, element);\n",
              "          const docLink = document.createElement('div');\n",
              "          docLink.innerHTML = docLinkHtml;\n",
              "          element.appendChild(docLink);\n",
              "        }\n",
              "      </script>\n",
              "    </div>\n",
              "  </div>\n",
              "  "
            ]
          },
          "metadata": {},
          "execution_count": 10
        }
      ]
    },
    {
      "cell_type": "code",
      "source": [
        "strip_chars = string.punctuation + \"¿\"\n",
        "strip_chars = strip_chars.replace(\"[\", \"\").replace(\"]\", \"\")\n",
        "print(strip_chars)\n",
        "def spanish_standardize(input_string):\n",
        "    lowercase = tf.strings.lower(input_string)\n",
        "    return tf.strings.regex_replace(lowercase, \"[%s]\"%re.escape(strip_chars), \"\")\n",
        "\n",
        "## Build Vocabularies\n",
        "english_vectorization = TextVectorization(\n",
        "    max_tokens=config.vocab_size, \n",
        "    output_mode=\"int\", \n",
        "    output_sequence_length=config.sequence_length,\n",
        ")\n",
        "spanish_vectorization = TextVectorization(\n",
        "    max_tokens=config.vocab_size,\n",
        "    output_mode=\"int\",\n",
        "    output_sequence_length=config.sequence_length + 1,\n",
        "    standardize=spanish_standardize,\n",
        ")\n",
        "english_vectorization.adapt(list(data[\"english\"]))\n",
        "spanish_vectorization.adapt(list(data[\"spanish\"]))"
      ],
      "metadata": {
        "colab": {
          "base_uri": "https://localhost:8080/"
        },
        "id": "MdvNb5tyh3Xu",
        "outputId": "71d2ddcb-61bf-4ece-fb32-0a733373501f"
      },
      "execution_count": 11,
      "outputs": [
        {
          "output_type": "stream",
          "name": "stdout",
          "text": [
            "!\"#$%&'()*+,-./:;<=>?@\\^_`{|}~¿\n"
          ]
        }
      ]
    },
    {
      "cell_type": "code",
      "source": [
        "def preprocess(english, spanish):\n",
        "    english = english_vectorization(english)\n",
        "    spanish = spanish_vectorization(spanish)\n",
        "    return ({\"encoder_inputs\": english, \"decoder_inputs\": spanish[:, :-1]}, spanish[:, 1:])\n",
        "def make_dataset(df, batch_size, mode):\n",
        "    dataset = tf.data.Dataset.from_tensor_slices((list(df[\"english\"]), list(df[\"spanish\"])))\n",
        "    if mode == \"train\":\n",
        "       dataset = dataset.shuffle(batch_size * 4) \n",
        "    dataset = dataset.batch(batch_size)\n",
        "    dataset = dataset.map(preprocess)\n",
        "    dataset = dataset.prefetch(tf.data.AUTOTUNE).cache()\n",
        "    return dataset"
      ],
      "metadata": {
        "id": "2m_9Qwxsh7Rg"
      },
      "execution_count": 12,
      "outputs": []
    },
    {
      "cell_type": "code",
      "source": [
        "train, valid = train_test_split(data, test_size=config.validation_split, random_state=42)\n",
        "train.shape, valid.shape"
      ],
      "metadata": {
        "colab": {
          "base_uri": "https://localhost:8080/"
        },
        "id": "p3w8hkqsiIsp",
        "outputId": "7d054c12-a0e8-4e9f-ed38-c939e626ffe1"
      },
      "execution_count": 13,
      "outputs": [
        {
          "output_type": "execute_result",
          "data": {
            "text/plain": [
              "((101119, 2), (17845, 2))"
            ]
          },
          "metadata": {},
          "execution_count": 13
        }
      ]
    },
    {
      "cell_type": "code",
      "source": [
        "train_ds = make_dataset(train, batch_size=config.batch_size, mode=\"train\")\n",
        "valid_ds = make_dataset(valid, batch_size=config.batch_size, mode=\"valid\")"
      ],
      "metadata": {
        "id": "74bK63GoiLyD"
      },
      "execution_count": 14,
      "outputs": []
    },
    {
      "cell_type": "code",
      "source": [
        "for batch in train_ds.take(1):\n",
        "    print(batch)"
      ],
      "metadata": {
        "colab": {
          "base_uri": "https://localhost:8080/"
        },
        "id": "7ERkoo0GiOvx",
        "outputId": "374ec627-4cfc-4c63-a5b7-f34dd6574766"
      },
      "execution_count": 15,
      "outputs": [
        {
          "output_type": "stream",
          "name": "stdout",
          "text": [
            "({'encoder_inputs': <tf.Tensor: shape=(512, 20), dtype=int64, numpy=\n",
            "array([[  9, 192, 343, ...,   0,   0,   0],\n",
            "       [156,  41, 113, ...,   0,   0,   0],\n",
            "       [  3, 223, 556, ...,   0,   0,   0],\n",
            "       ...,\n",
            "       [ 73,   5,  36, ...,   0,   0,   0],\n",
            "       [ 34,  33,   7, ...,   0,   0,   0],\n",
            "       [  6,  14, 814, ...,   0,   0,   0]])>, 'decoder_inputs': <tf.Tensor: shape=(512, 20), dtype=int64, numpy=\n",
            "array([[   2,  229,  328, ...,    0,    0,    0],\n",
            "       [   2, 3401,   34, ...,    0,    0,    0],\n",
            "       [   2,   14, 4485, ...,    0,    0,    0],\n",
            "       ...,\n",
            "       [   2,   16,   27, ...,    0,    0,    0],\n",
            "       [   2,    7,   99, ...,    0,    0,    0],\n",
            "       [   2,    8,   45, ...,    0,    0,    0]])>}, <tf.Tensor: shape=(512, 20), dtype=int64, numpy=\n",
            "array([[ 229,  328,   53, ...,    0,    0,    0],\n",
            "       [3401,   34, 1284, ...,    0,    0,    0],\n",
            "       [  14, 4485,   10, ...,    0,    0,    0],\n",
            "       ...,\n",
            "       [  16,   27,    7, ...,    0,    0,    0],\n",
            "       [   7,   99,  253, ...,    0,    0,    0],\n",
            "       [   8,   45, 1028, ...,    0,    0,    0]])>)\n"
          ]
        }
      ]
    },
    {
      "cell_type": "markdown",
      "source": [
        "## Modeling"
      ],
      "metadata": {
        "id": "RjFcSfEFiSgU"
      }
    },
    {
      "cell_type": "code",
      "source": [
        "class TransformerEncoder(layers.Layer):\n",
        "    def __init__(self, embed_dim, num_heads, ff_dim, rate=0.1, **kwargs):\n",
        "        super(TransformerEncoder, self).__init__(**kwargs)\n",
        "        self.att = keras.layers.MultiHeadAttention(\n",
        "            num_heads=num_heads, key_dim=embed_dim\n",
        "        )\n",
        "        self.ffn = keras.Sequential(\n",
        "            [\n",
        "                keras.layers.Dense(ff_dim, activation=\"relu\"),\n",
        "                keras.layers.Dense(embed_dim),\n",
        "            ]\n",
        "        )\n",
        "        self.layernorm1 = keras.layers.LayerNormalization(epsilon=1e-6)\n",
        "        self.layernorm2 = keras.layers.LayerNormalization(epsilon=1e-6)\n",
        "        self.dropout1 = keras.layers.Dropout(rate)\n",
        "        self.dropout2 = keras.layers.Dropout(rate)\n",
        "\n",
        "    def call(self, inputs, training=False):\n",
        "        attn_output = self.att(inputs, inputs)\n",
        "        attn_output = self.dropout1(attn_output, training=training)\n",
        "        out1 = self.layernorm1(inputs + attn_output)\n",
        "        ffn_output = self.ffn(out1)\n",
        "        ffn_output = self.dropout2(ffn_output, training=training)\n",
        "        return self.layernorm2(out1 + ffn_output)\n",
        "\n",
        "class PositionalEmbedding(layers.Layer):\n",
        "    def __init__(self, sequence_length, vocab_size, embed_dim, **kwargs):\n",
        "        super(PositionalEmbedding, self).__init__(**kwargs)\n",
        "        self.token_embeddings = layers.Embedding(\n",
        "            input_dim=vocab_size, \n",
        "            output_dim=embed_dim,\n",
        "            mask_zero=True\n",
        "        )\n",
        "        self.position_embeddings = layers.Embedding(\n",
        "            input_dim=sequence_length, \n",
        "            output_dim=embed_dim,\n",
        "            mask_zero=True\n",
        "        )\n",
        "        self.sequence_length = sequence_length\n",
        "        self.vocab_size = vocab_size\n",
        "        self.embed_dim = embed_dim\n",
        "\n",
        "    def call(self, inputs):\n",
        "        length = tf.shape(inputs)[-1]\n",
        "        positions = tf.range(start=0, limit=length, delta=1)\n",
        "        embedded_tokens = self.token_embeddings(inputs)\n",
        "        embedded_positions = self.position_embeddings(positions)\n",
        "        return embedded_tokens + embedded_positions\n",
        "\n",
        "    def compute_mask(self, inputs, mask=None):\n",
        "        return tf.math.not_equal(inputs, 0)\n",
        "\n",
        "class TransformerDecoder(layers.Layer):\n",
        "    def __init__(self, embed_dim, latent_dim, num_heads, **kwargs):\n",
        "        super(TransformerDecoder, self).__init__(**kwargs)\n",
        "        self.embed_dim = embed_dim\n",
        "        self.latent_dim = latent_dim\n",
        "        self.num_heads = num_heads\n",
        "        self.attention_1 = layers.MultiHeadAttention(\n",
        "            num_heads=num_heads,\n",
        "            key_dim=embed_dim\n",
        "        )\n",
        "        self.attention_2 = layers.MultiHeadAttention(\n",
        "            num_heads=num_heads,\n",
        "            key_dim=embed_dim\n",
        "        )\n",
        "        self.dense_proj = keras.Sequential([\n",
        "            layers.Dense(latent_dim, activation=\"relu\"),\n",
        "            layers.Dense(embed_dim),\n",
        "        ])\n",
        "        self.layernorm_1 = layers.LayerNormalization()\n",
        "        self.layernorm_2 = layers.LayerNormalization()\n",
        "        self.layernorm_3 = layers.LayerNormalization()\n",
        "        self.supports_masking = True\n",
        "        \n",
        "    def call(self, inputs, encoder_outputs, mask = None):\n",
        "        causal_mask = self.get_causal_attention_mask(inputs)\n",
        "        if mask != None:\n",
        "            padding_mask = tf.cast(mask[:, tf.newaxis, :], dtype=\"int32\")\n",
        "            padding_mask = tf.minimum(padding_mask, causal_mask)\n",
        "        attention_output_1 = self.attention_1(\n",
        "            query=inputs, \n",
        "            value=inputs, \n",
        "            key=inputs, \n",
        "            attention_mask=causal_mask\n",
        "        )\n",
        "        \n",
        "        out_1 = self.layernorm_1(inputs + attention_output_1)\n",
        "        \n",
        "        attention_output_2 = self.attention_2(\n",
        "            query=out_1, \n",
        "            value=encoder_outputs, \n",
        "            key=encoder_outputs, \n",
        "            attention_mask=padding_mask\n",
        "        )\n",
        "        \n",
        "        out_2 = self.layernorm_2(out_1 + attention_output_2)\n",
        "        \n",
        "        proj_output = self.dense_proj(out_2)\n",
        "        out = self.layernorm_3(out_2 + proj_output)\n",
        "\n",
        "        return out\n",
        "    \n",
        "    def get_causal_attention_mask(self, inputs):\n",
        "        input_shape = tf.shape(inputs)\n",
        "        batch_size, sequence_length = input_shape[0], input_shape[1]\n",
        "        i = tf.range(sequence_length)[:, tf.newaxis]\n",
        "        j = tf.range(sequence_length)\n",
        "        mask = tf.cast(i >= j, dtype=\"int32\")\n",
        "        mask = tf.reshape(mask, (1, input_shape[1], input_shape[1]))\n",
        "        mult = tf.concat(\n",
        "            [tf.expand_dims(batch_size, -1), tf.constant([1, 1], dtype=tf.int32)],\n",
        "            axis=0\n",
        "        )\n",
        "        return tf.tile(mask, mult)\n",
        "\n",
        "\n",
        "def edit_distance(y_true, y_pred):\n",
        "    y_true = tf.cast(y_true, tf.int32)\n",
        "    y_pred = tf.argmax(y_pred, axis=-1, output_type=y_true.dtype)\n",
        "    y_true_tensor =  tf.sparse.from_dense(\n",
        "        y_true\n",
        "    )\n",
        "    y_pred_tensor = tf.sparse.from_dense(\n",
        "        y_pred\n",
        "    )\n",
        "    metric = 1 - tf.edit_distance(y_true_tensor, y_pred_tensor, normalize=True)\n",
        "    return metric\n",
        "\n",
        "def get_transformer(config):\n",
        "    encoder_inputs = keras.Input(shape=(None,), dtype=\"int64\", name=\"encoder_inputs\")\n",
        "    x = PositionalEmbedding(config.sequence_length, config.vocab_size, config.embed_dim)(encoder_inputs)\n",
        "    encoder_outputs = TransformerEncoder(config.embed_dim, config.num_heads, config.latent_dim)(x)\n",
        "    encoder = keras.Model(encoder_inputs, encoder_outputs)\n",
        "\n",
        "    decoder_inputs = keras.Input(shape=(None,), dtype=\"int64\", name=\"decoder_inputs\")\n",
        "    encoded_seq_inputs = keras.Input(shape=(None, config.embed_dim), name=\"decoder_state_inputs\")\n",
        "    x = PositionalEmbedding(config.sequence_length, config.vocab_size, config.embed_dim)(decoder_inputs)\n",
        "    x = TransformerDecoder(config.embed_dim, config.latent_dim, config.num_heads)(x, encoded_seq_inputs)\n",
        "    x = layers.Dropout(0.5)(x)\n",
        "    decoder_outputs = layers.Dense(config.vocab_size, activation=\"softmax\")(x)\n",
        "    decoder = keras.Model([decoder_inputs, encoded_seq_inputs], decoder_outputs)\n",
        "\n",
        "    decoder_outputs = decoder([decoder_inputs, encoder_outputs])\n",
        "    transformer = keras.Model(\n",
        "        [encoder_inputs, decoder_inputs], decoder_outputs, name=\"transformer\"\n",
        "    )\n",
        "    transformer.compile(\n",
        "        \"adam\", loss=\"sparse_categorical_crossentropy\", metrics=[\"accuracy\"]\n",
        "    )\n",
        "    return transformer"
      ],
      "metadata": {
        "id": "iahGuw7kiUFn"
      },
      "execution_count": 17,
      "outputs": []
    },
    {
      "cell_type": "code",
      "source": [
        "transformer = get_transformer(config)\n",
        "transformer.summary()\n",
        "keras.utils.plot_model(transformer, show_shapes=True)"
      ],
      "metadata": {
        "colab": {
          "base_uri": "https://localhost:8080/",
          "height": 806
        },
        "id": "5aK6ENPkimYi",
        "outputId": "a5ed8437-b0b8-4fbd-b1cf-a66b93c9ea83"
      },
      "execution_count": 18,
      "outputs": [
        {
          "output_type": "stream",
          "name": "stdout",
          "text": [
            "Model: \"transformer\"\n",
            "__________________________________________________________________________________________________\n",
            " Layer (type)                   Output Shape         Param #     Connected to                     \n",
            "==================================================================================================\n",
            " encoder_inputs (InputLayer)    [(None, None)]       0           []                               \n",
            "                                                                                                  \n",
            " positional_embedding (Position  (None, None, 256)   4101120     ['encoder_inputs[0][0]']         \n",
            " alEmbedding)                                                                                     \n",
            "                                                                                                  \n",
            " decoder_inputs (InputLayer)    [(None, None)]       0           []                               \n",
            "                                                                                                  \n",
            " transformer_encoder (Transform  (None, None, 256)   1184512     ['positional_embedding[0][0]']   \n",
            " erEncoder)                                                                                       \n",
            "                                                                                                  \n",
            " model_1 (Functional)           (None, None, 16000)  10450048    ['decoder_inputs[0][0]',         \n",
            "                                                                  'transformer_encoder[0][0]']    \n",
            "                                                                                                  \n",
            "==================================================================================================\n",
            "Total params: 15,735,680\n",
            "Trainable params: 15,735,680\n",
            "Non-trainable params: 0\n",
            "__________________________________________________________________________________________________\n"
          ]
        },
        {
          "output_type": "execute_result",
          "data": {
            "image/png": "[encoded data removed]",
            "text/plain": [
              "<IPython.core.display.Image object>"
            ]
          },
          "metadata": {},
          "execution_count": 18
        }
      ]
    },
    {
      "cell_type": "markdown",
      "source": [
        "## Training or loading model"
      ],
      "metadata": {
        "id": "TAWtJDRaisDE"
      }
    },
    {
      "cell_type": "code",
      "source": [
        "if config.is_training:\n",
        "    checkpoints = tf.keras.callbacks.ModelCheckpoint(\n",
        "        \"model.tf\", \n",
        "        monitor=\"val_accuracy\", \n",
        "        mode=\"max\", \n",
        "        save_best_only=True\n",
        "    )\n",
        "    early_stop = tf.keras.callbacks.EarlyStopping(\n",
        "        patience=10,\n",
        "        monitor=\"val_loss\",\n",
        "        mode=\"min\",\n",
        "        restore_best_weights=True\n",
        "    )\n",
        "    transformer.fit(train_ds, epochs=config.epochs, validation_data=valid_ds, callbacks=[checkpoints, early_stop])\n",
        "    transformer.load_weights(\"model.tf\")\n",
        "else:\n",
        "    transformer.load_weights(\"/content/english-spanish-translation-transformer-model/model.tf\")"
      ],
      "metadata": {
        "id": "_-EhDb8tiudr"
      },
      "execution_count": 19,
      "outputs": []
    },
    {
      "cell_type": "markdown",
      "source": [
        "## Evaluating model"
      ],
      "metadata": {
        "id": "ZEWv0OIQi3Ck"
      }
    },
    {
      "cell_type": "code",
      "source": [
        "transformer.evaluate(valid_ds)"
      ],
      "metadata": {
        "colab": {
          "base_uri": "https://localhost:8080/"
        },
        "id": "QdhKzDl0i4tU",
        "outputId": "221ce693-7a92-4888-8173-4b98eefac916"
      },
      "execution_count": 20,
      "outputs": [
        {
          "output_type": "stream",
          "name": "stdout",
          "text": [
            "35/35 [==============================] - 273s 8s/step - loss: 1.6179 - accuracy: 0.7233\n"
          ]
        },
        {
          "output_type": "execute_result",
          "data": {
            "text/plain": [
              "[1.6178680658340454, 0.7233039140701294]"
            ]
          },
          "metadata": {},
          "execution_count": 20
        }
      ]
    },
    {
      "cell_type": "markdown",
      "source": [
        "## Translation"
      ],
      "metadata": {
        "id": "gxutCHwti94S"
      }
    },
    {
      "cell_type": "code",
      "source": [
        "spanish_vocab = spanish_vectorization.get_vocabulary()\n",
        "spanish_index_lookup = dict(zip(range(len(spanish_vocab)), spanish_vocab))\n",
        "def remove_start_and_end_token(sentence):\n",
        "    return sentence.replace(\"[start] \", \"\").replace(\" [end]\", \"\")\n",
        "def decode_sequence(transformer, input_sentence):\n",
        "    tokenized_input_sentence = english_vectorization([input_sentence])\n",
        "    decoded_sentence = \"[start]\"\n",
        "    for i in range(config.sequence_length):\n",
        "        tokenized_target_sentence = spanish_vectorization([decoded_sentence])[:, :-1]\n",
        "        predictions = transformer([tokenized_input_sentence, tokenized_target_sentence])\n",
        "\n",
        "        sampled_token_index = np.argmax(predictions[0, i, :])\n",
        "        sampled_token = spanish_index_lookup[sampled_token_index]\n",
        "        decoded_sentence += \" \" + sampled_token\n",
        "\n",
        "        if sampled_token == \"[end]\":\n",
        "            break\n",
        "    return remove_start_and_end_token(decoded_sentence)"
      ],
      "metadata": {
        "id": "d-KOzmSbjAwo"
      },
      "execution_count": 21,
      "outputs": []
    },
    {
      "cell_type": "code",
      "source": [
        "decode_sequence(transformer, \"hi\")"
      ],
      "metadata": {
        "colab": {
          "base_uri": "https://localhost:8080/",
          "height": 56
        },
        "id": "l4iffnPejMzF",
        "outputId": "be651b48-344b-4ad8-9fed-380fe260aa4a"
      },
      "execution_count": 22,
      "outputs": [
        {
          "output_type": "execute_result",
          "data": {
            "text/plain": [
              "'hola'"
            ],
            "application/vnd.google.colaboratory.intrinsic+json": {
              "type": "string"
            }
          },
          "metadata": {},
          "execution_count": 22
        }
      ]
    },
    {
      "cell_type": "code",
      "source": [
        "for i in np.random.choice(len(data), 100):\n",
        "    item = data.iloc[i]\n",
        "    translated = decode_sequence(transformer, item[\"english\"])\n",
        "    print(\"English:\", remove_start_and_end_token(item[\"english\"]))\n",
        "    print(\"Spanish:\", remove_start_and_end_token(item[\"spanish\"]))\n",
        "    print(\"Translated:\", translated)"
      ],
      "metadata": {
        "colab": {
          "base_uri": "https://localhost:8080/"
        },
        "id": "YQYrj2YljKEE",
        "outputId": "06c25e9c-6670-4015-b1b2-5e5080fc66a9"
      },
      "execution_count": 23,
      "outputs": [
        {
          "output_type": "stream",
          "name": "stdout",
          "text": [
            "English: I'm not sure I want to do this.\n",
            "Spanish: No estoy seguro de querer hacerlo.\n",
            "Translated: no estoy segura de querer hacer esto\n",
            "English: Did I write that?\n",
            "Spanish: ¿Yo escribí eso?\n",
            "Translated: yo escribí eso\n",
            "English: He won't be home at lunch time.\n",
            "Spanish: Él no va a estar en casa a la hora de almuerzo.\n",
            "Translated: Él no estará en casa a almorzar\n",
            "English: Her brother is married, but he doesn't have children.\n",
            "Spanish: Su hermano es casado, pero no tiene hijos.\n",
            "Translated: su hermano está casado pero no tiene hijos\n",
            "English: I had an argument with Tom about the use of marijuana.\n",
            "Spanish: Discutí con Tom sobre el uso de la marihuana.\n",
            "Translated: discutí con tom sobre el uso de la marihuana\n",
            "English: I want to see your boss.\n",
            "Spanish: Quiero ver a su jefe.\n",
            "Translated: quiero ver a tu jefe\n",
            "English: When will he go home?\n",
            "Spanish: ¿Cuándo irá a casa?\n",
            "Translated: cuándo va a casa\n",
            "English: Is this the right bus for Boston?\n",
            "Spanish: ¿Este es el autobús hacia Boston?\n",
            "Translated: es este el autobús derecho de boston\n",
            "English: They're the same age.\n",
            "Spanish: Ellos tienen la misma edad.\n",
            "Translated: tienen la misma edad\n",
            "English: Tom could hardly believe him.\n",
            "Spanish: Tom apenas podía creerle.\n",
            "Translated: tom apenas podía creer que lo [UNK]\n",
            "English: You're my enemy.\n",
            "Spanish: Usted es mi enemiga.\n",
            "Translated: eres mi enemigo\n",
            "English: We spent our holiday at the seaside.\n",
            "Spanish: Pasamos el día libre en la costa.\n",
            "Translated: pasamos de vacaciones en el mar\n",
            "English: Tom has never met a Canadian he didn't like.\n",
            "Spanish: Tom no ha conocido nunca a un canadiense que no le gustase.\n",
            "Translated: tom nunca se ha encontrado con un canadiense que no le gustaba\n",
            "English: Montgomery was where it all began.\n",
            "Spanish: Donde todo surgió fue en Montgomery.\n",
            "Translated: montgomery fue donde empezó todo comenzó\n",
            "English: Tom doesn't make much money.\n",
            "Spanish: Tom no gana mucho dinero.\n",
            "Translated: tom no gana mucho dinero\n",
            "English: I didn't know that Tom was Canadian.\n",
            "Spanish: No conocía que Tom era canadiense.\n",
            "Translated: no sabía que tom era canadiense\n",
            "English: We have a magnificent view of the ocean from our hotel room.\n",
            "Spanish: Tenemos una magnífica vista al mar desde nuestra habitación de hotel.\n",
            "Translated: tenemos una magnífica vista al mar de nuestra habitación\n",
            "English: It has been her dream to be a university professor.\n",
            "Spanish: Su sueño era ser profesor de universidad.\n",
            "Translated: fue difícil llevar inglés con su sueño\n",
            "English: I'm home.\n",
            "Spanish: Estoy en casa.\n",
            "Translated: estoy en casa\n",
            "English: That's a problem.\n",
            "Spanish: Eso es un problema.\n",
            "Translated: es un problema\n",
            "English: My sister is always weighing herself.\n",
            "Spanish: Mi hermana se está controlando el peso continuamente.\n",
            "Translated: mi hermana no de [UNK]\n",
            "English: We are never as happy nor as unhappy as we imagine.\n",
            "Spanish: Nunca somos tan felices o tan infelices como imaginamos.\n",
            "Translated: nunca es tan feliz como [UNK] de lo [UNK]\n",
            "English: He is talking on the phone.\n",
            "Spanish: Él está hablando por teléfono.\n",
            "Translated: está hablando de teléfono\n",
            "English: I can tell you what I know.\n",
            "Spanish: Puedo contarte lo que sé.\n",
            "Translated: puedo contarte lo que sé\n",
            "English: They don't like my friends.\n",
            "Spanish: No les gustan mis amigos.\n",
            "Translated: no les gustan mis amigos\n",
            "English: Concentrate, Tom.\n",
            "Spanish: Concéntrate, Tom.\n",
            "Translated: concéntrate tom\n",
            "English: We got on the bus at Shinjuku.\n",
            "Spanish: Nos subimos al bus en Shinjuku.\n",
            "Translated: tomamos al bus en el autobús\n",
            "English: I can't remember.\n",
            "Spanish: No me acuerdo.\n",
            "Translated: no puedo recordar\n",
            "English: He holds stocks in this company.\n",
            "Spanish: Tiene acciones en esta compañía.\n",
            "Translated: tiene acciones en esta compañía\n",
            "English: Tom doesn't trust Mary any longer.\n",
            "Spanish: Tom ya no confía más en Mary.\n",
            "Translated: tom no confía más que mary\n",
            "English: Can you help me lift this?\n",
            "Spanish: ¿Puedes ayudarme a levantar esto?\n",
            "Translated: me puedes ayudarme a levantar esto\n",
            "English: The election campaign of 1880 was not exciting.\n",
            "Spanish: La campaña electoral de 1880 no fue interesante.\n",
            "Translated: la elección de campaña de campaña fue similar\n",
            "English: She stole my clothes!\n",
            "Spanish: ¡Ella se robó mi ropa!\n",
            "Translated: ella me robó la ropa\n",
            "English: I'll give it a whirl.\n",
            "Spanish: Le daré una vuelta.\n",
            "Translated: le daré una vuelta\n",
            "English: Times have changed.\n",
            "Spanish: Los tiempos han cambiado.\n",
            "Translated: los tiempos han cambiado\n",
            "English: Once upon a time, there was a beautiful princess.\n",
            "Spanish: Había una vez una hermosa princesa.\n",
            "Translated: había una vez una hermosa princesa\n",
            "English: There's an answer to everything.\n",
            "Spanish: Hay una respuesta para todo.\n",
            "Translated: hay una respuesta para todo\n",
            "English: It's possible, though rare, for humans to catch diseases from animals.\n",
            "Spanish: Es posible, aunque raro, que los humanos atrapen enfermedades de los animales.\n",
            "Translated: es posible aunque raro que los humanos atrapen enfermedades de los animales\n",
            "English: I felt completely happy.\n",
            "Spanish: Me sentía completamente feliz.\n",
            "Translated: me sentí totalmente feliz\n",
            "English: I think we're getting behind in this work.\n",
            "Spanish: Creo que nos estamos atrasando en este trabajo.\n",
            "Translated: creo que se nos se nos [UNK] en este trabajo\n",
            "English: I'll come to visit you at your house tomorrow.\n",
            "Spanish: Iré a visitarte a tu casa mañana.\n",
            "Translated: iré a visitarte a tu casa mañana\n",
            "English: Why would you want Tom to do that?\n",
            "Spanish: ¿Por qué querrías que Tom haga eso?\n",
            "Translated: por qué querrías a tom hacer eso\n",
            "English: The lunch is on the table.\n",
            "Spanish: El almuerzo está en la mesa.\n",
            "Translated: el almuerzo está en la mesa\n",
            "English: She studied English in the morning.\n",
            "Spanish: Ella estudió inglés por la mañana.\n",
            "Translated: ella estudió inglés por la mañana\n",
            "English: I saw him last night in the bar and he was really drunk.\n",
            "Spanish: Lo vi anoche en el bar y estaba muy borracho.\n",
            "Translated: le vi anoche en el bar y estaba muy borracho\n",
            "English: Tom doesn't know who he should ask.\n",
            "Spanish: Tom no sabe a quién debería preguntarle.\n",
            "Translated: tom no sabe quién debería preguntarle\n",
            "English: You should listen to me.\n",
            "Spanish: Tú deberías escucharme.\n",
            "Translated: deberías escucharme\n",
            "English: We understand that.\n",
            "Spanish: Lo comprendemos.\n",
            "Translated: lo entendemos\n",
            "English: I never give up.\n",
            "Spanish: No me rindo nunca.\n",
            "Translated: nunca me rindo\n",
            "English: He was crossing the street.\n",
            "Spanish: Estaba cruzando la calle.\n",
            "Translated: Él estaba cruzando la calle\n",
            "English: Tom wasn't able to make Mary laugh.\n",
            "Spanish: Tom no fue capaz de hacer reír a Mary.\n",
            "Translated: tom no fue capaz de hacer reír a mary\n",
            "English: What did Galileo see?\n",
            "Spanish: ¿Qué vio Galileo?\n",
            "Translated: qué ha ido a ver\n",
            "English: Both girls coughed at the same time.\n",
            "Spanish: Las dos chicas tosieron al mismo tiempo.\n",
            "Translated: ambos [UNK] en el mismo tiempo\n",
            "English: I want to talk to you, Tom.\n",
            "Spanish: Quiero hablarte, Tom.\n",
            "Translated: quiero hablar con usted tom\n",
            "English: I couldn't remember the title of that song.\n",
            "Spanish: No podía recordar el nombre de aquella canción.\n",
            "Translated: no pude recordar el nombre de esa canción\n",
            "English: Why did you do this?\n",
            "Spanish: ¿Por qué hiciste esto?\n",
            "Translated: por qué hiciste esto\n",
            "English: Why are you afraid?\n",
            "Spanish: ¿Por qué tenés miedo?\n",
            "Translated: por qué tienes miedo\n",
            "English: My uncle's car is faster than mine.\n",
            "Spanish: El carro de mi tío es más rápido que el mío.\n",
            "Translated: el coche de mi tío es más rápido que el mío\n",
            "English: You saved my life.\n",
            "Spanish: Vos salvaste mi vida.\n",
            "Translated: has salvado mi vida\n",
            "English: What kind of a parent would leave their child unattended in the car outside the pub while they're inside drinking?\n",
            "Spanish: ¿Qué tipo de padre dejaría a su hijo desatendido en el coche fuera del pub, mientras ellos están dentro bebiendo?\n",
            "Translated: qué tipo de padre dejaría a su hijo llegaría cuando hora sale el carro afuera del pub mientras están dentro\n",
            "English: Now that the weather is warmer, I can go outdoors.\n",
            "Spanish: Ahora que el tiempo es cálido, puedo salir fuera.\n",
            "Translated: ahora que el clima está más caluroso y salir\n",
            "English: I remember seeing this before.\n",
            "Spanish: Recuerdo haberlo visto antes.\n",
            "Translated: recuerdo haberlo visto antes\n",
            "English: They left.\n",
            "Spanish: Se iban.\n",
            "Translated: se fueron\n",
            "English: We're starting over.\n",
            "Spanish: Empezamos de nuevo.\n",
            "Translated: nos [UNK]\n",
            "English: Find Tom.\n",
            "Spanish: Encuéntrenlo a Tomás.\n",
            "Translated: [UNK] a tom\n",
            "English: He was killed in the war.\n",
            "Spanish: Él fue asesinado en la guerra.\n",
            "Translated: Él murió en la guerra\n",
            "English: Mind your own business.\n",
            "Spanish: ¡Meteos en vuestros asuntos!\n",
            "Translated: ¡meteos en vuestros asuntos\n",
            "English: She is proud of her students.\n",
            "Spanish: Ella está orgullosa de sus alumnos.\n",
            "Translated: ella está orgullosa de sus alumnos\n",
            "English: We should not lose patience.\n",
            "Spanish: No deberíamos perder la paciencia.\n",
            "Translated: no deberíamos perder la paciencia\n",
            "English: Tom will be thrilled.\n",
            "Spanish: Tom estará encantado.\n",
            "Translated: tom estará encantado\n",
            "English: Tom got very angry at Mary.\n",
            "Spanish: Tom se enfadó mucho con Mary.\n",
            "Translated: tom se enfadó mucho con mary\n",
            "English: I'd like to see some proof.\n",
            "Spanish: Me gustaría ver alguna prueba.\n",
            "Translated: me gustaría ver algo\n",
            "English: Why do people tell lies?\n",
            "Spanish: ¿Por qué miente la gente?\n",
            "Translated: por qué dice la gente\n",
            "English: Can I borrow a cup of sugar?\n",
            "Spanish: ¿Me puede prestar una taza de azúcar?\n",
            "Translated: me puede prestar una taza de azúcar\n",
            "English: She turned on the light.\n",
            "Spanish: Ella encendió la luz.\n",
            "Translated: ella encendió la luz\n",
            "English: They are taking a walk.\n",
            "Spanish: Ellos están paseando.\n",
            "Translated: ellos están dando un paseo\n",
            "English: He pinched me!\n",
            "Spanish: ¡Me pellizcó!\n",
            "Translated: me [UNK]\n",
            "English: They loved Tom.\n",
            "Spanish: Ellos amaban a Tom.\n",
            "Translated: ellos amaban a tom\n",
            "English: At first, I mistook you for your brother.\n",
            "Spanish: Al principio, te confundí con tu hermano.\n",
            "Translated: al principio te confundí con tu hermano\n",
            "English: You should conform to the rules.\n",
            "Spanish: Debes ajustarte a las reglas.\n",
            "Translated: debes [UNK] a las reglas\n",
            "English: Watch this.\n",
            "Spanish: Mirad esto.\n",
            "Translated: mira esto\n",
            "English: It is a pity that he can't come.\n",
            "Spanish: Es una pena que él no pueda venir.\n",
            "Translated: es una pena que él no pueda venir\n",
            "English: Now, it's your turn.\n",
            "Spanish: Ahora os toca a vosotros.\n",
            "Translated: ahora es tu turno\n",
            "English: \"Are your parents home?\" \"Only my dad.\"\n",
            "Spanish: \"¿Tus padres están en casa?\" \"Sólo mi padre.\"\n",
            "Translated: tus padres están en mi padre solo\n",
            "English: Is his story true?\n",
            "Spanish: ¿Es cierta su historia?\n",
            "Translated: es cierta su historia\n",
            "English: In October, the leaves begin to fall.\n",
            "Spanish: En octubre, las hojas comienzan a caer.\n",
            "Translated: en octubre las hojas empiezan a caer\n",
            "English: She made a polite bow to me.\n",
            "Spanish: Ella me hizo una reverencia cortés.\n",
            "Translated: ella me hizo una [UNK] de terror\n",
            "English: What are you hiding in your turban?\n",
            "Spanish: ¿Qué traes oculto en tu turbante?\n",
            "Translated: qué estás ocultando en tu [UNK]\n",
            "English: Tom is a Canadian who lives in Australia.\n",
            "Spanish: Tom es un canadiense que vive en Australia.\n",
            "Translated: tom es un canadiense que vive en australia\n",
            "English: A river separates the city into east and west.\n",
            "Spanish: Un río divide la ciudad en este y oeste.\n",
            "Translated: un río divide la ciudad en este y oeste\n",
            "English: I'll bear that in mind.\n",
            "Spanish: Mantendré eso en mente.\n",
            "Translated: me [UNK] eso en mente\n",
            "English: I was fired.\n",
            "Spanish: Me despidieron.\n",
            "Translated: me despidieron\n",
            "English: As soon as I got out, I kicked the wall.\n",
            "Spanish: En cuanto salí, le di una patada al muro.\n",
            "Translated: me [UNK] la cabeza que me di una patada al muro\n",
            "English: It's not my business.\n",
            "Spanish: No es asunto mío.\n",
            "Translated: no es asunto mío\n",
            "English: Tom put his wallet on the table.\n",
            "Spanish: Tom puso su billetera sobre la mesa.\n",
            "Translated: tom puso su billetera sobre la mesa\n",
            "English: I wouldn't blame you if you preferred to leave.\n",
            "Spanish: No los culparía si prefirieran irse.\n",
            "Translated: no te culparía si [UNK] ir\n",
            "English: I think you should be careful.\n",
            "Spanish: Yo pienso que deberías tener cuidado.\n",
            "Translated: creo que deberías tener cuidado\n",
            "English: Tom had a lot of fun at the party.\n",
            "Spanish: Tom se divirtió mucho en la fiesta.\n",
            "Translated: tom se divirtió mucho en la fiesta\n",
            "English: The baby's name was Tom.\n",
            "Spanish: El nombre del bebé era Tomás.\n",
            "Translated: el nombre del bebé era tom\n",
            "English: The treaty bans the use of chemical weapons.\n",
            "Spanish: El tratado prohíbe el uso de armas químicas.\n",
            "Translated: el [UNK] prohíbe las armas de armas [UNK]\n"
          ]
        }
      ]
    }
  ]
}